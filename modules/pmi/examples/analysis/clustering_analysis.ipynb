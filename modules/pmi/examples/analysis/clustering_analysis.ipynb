{
 "metadata": {
  "name": "clustering_analysis"
 },
 "nbformat": 3,
 "nbformat_minor": 0,
 "worksheets": [
  {
   "cells": [
    {
     "cell_type": "heading",
     "level": 1,
     "metadata": {},
     "source": [
      "Cluster Analysis Tutorial"
     ]
    },
    {
     "cell_type": "markdown",
     "metadata": {},
     "source": [
      "This tutorial describes how to run a cluster analysis, when the calculation was run with a ReplicaExchange protocol.\n",
      "The clustering algorithm will create cluster.$index directories, therefore you may want to remove these directories every time you rerun the calculation. The matrix calculation is very time consuming. The matrix can be saved in a file, in case you want to apply different clustering methods. In additio, one can run the calculation in parallel (you need the mpi4py python library installed).\n",
      "\n",
      "Paste the python code below in a file, and run it. (eg, imp/setup_environment.sh mpirun -np 8 python this_script.py)"
     ]
    },
    {
     "cell_type": "code",
     "collapsed": false,
     "input": [
      "import IMP\n",
      "import IMP.pmi\n",
      "import IMP.pmi.macros"
     ],
     "language": "python",
     "metadata": {},
     "outputs": []
    },
    {
     "cell_type": "markdown",
     "metadata": {},
     "source": [
      "Set is_mpi=True if you want to run the script in parallel. Specify the number of processes through the mpirun command. mpi4py is needed to run in parallel"
     ]
    },
    {
     "cell_type": "code",
     "collapsed": false,
     "input": [
      "is_mpi=True\n",
      "\n",
      "model=IMP.Model()"
     ],
     "language": "python",
     "metadata": {},
     "outputs": []
    },
    {
     "cell_type": "markdown",
     "metadata": {},
     "source": [
      "Initialize the analysis class. "
     ]
    },
    {
     "cell_type": "code",
     "collapsed": false,
     "input": [
      "mc=IMP.pmi.macros.AnalysisReplicaExchange0(model,\n",
      "                                        stat_file_name_suffix=\"stat\",\n",
      "                                        global_output_directory=\"./post-EM\",\n",
      "                                        rmf_dir=\"rmfs/\")"
     ],
     "language": "python",
     "metadata": {},
     "outputs": []
    },
    {
     "cell_type": "markdown",
     "metadata": {},
     "source": [
      "Define a list of features that has to be extracted from the stat files for each cluster. The keywords can be incomplete. In that case every keyword that match the substrings in the list will be extracted. For instance `ISDCrossLinkMS_Distance_intrarb` will extract all cross-link distances. The features will be stored in each cluster directory as a stat file (they can be read using `process_output`)"
     ]
    },
    {
     "cell_type": "code",
     "collapsed": false,
     "input": [
      "feature_list=[\"ISDCrossLinkMS_Distance_intrarb\",\n",
      "              \"ISDCrossLinkMS_Distance_interrb\",\n",
      "              \"ISDCrossLinkMS_Data_Score\",\n",
      "              \"GaussianEMRestraint_None\",\n",
      "              \"SimplifiedModel_Linker_Score_None\",\n",
      "              \"ISDCrossLinkMS_Psi_1.0_\",\n",
      "              \"ISDCrossLinkMS_Sigma_1_\"]"
     ],
     "language": "python",
     "metadata": {},
     "outputs": []
    },
    {
     "cell_type": "markdown",
     "metadata": {},
     "source": [
      "To run the clustering you have to specify what keyword in the stat files corresponds to the total score (ie,`\"SimplifiedModel_Total_Score_None\"`). Also specify what keywords correspond to the rmf_file and the rmf_file_index. \n",
      "\n",
      "`number_of_best_scoring_models` corresponds to the number of best scoring models that has to be taken to make the clustering. \n",
      "\n",
      "`alignment_components` is the list of component names onto which you want to calculate the alignment. \n",
      "\n",
      "`distance_matrix_file` is the name of the file to write the distance matrix. It can be loaded in a second moment if you want to cluster using other parameters (eg, using another number of clusters). \n",
      "\n",
      "`feature_keys` is the list of feature keys.\n",
      "\n",
      "`number_of_clusters` is the number of cluster used by kmeans.\n",
      "\n",
      "`density_custom_ranges` If defined, it will calculate the localization density for the cluster ensemble. It is a dictionary where each keyword is a density file name, and the value is a list of either component names as well as tuples in the form (firstres, lastres,component_name)"
     ]
    },
    {
     "cell_type": "code",
     "collapsed": false,
     "input": [
      "mc.clustering(\"SimplifiedModel_Total_Score_None\",\n",
      "              \"rmf_file\",\n",
      "              \"rmf_frame_index\",\n",
      "              number_of_best_scoring_models=100,\n",
      "              alignment_components=[\"ProtA\",\"ProtB\",\"ProtC\"],\n",
      "              distance_matrix_file=\"distance.rawmatrix.pkl\",\n",
      "              feature_keys=feature_list,\n",
      "              load_distance_matrix_file=False,\n",
      "              is_mpi=is_mpi,\n",
      "              number_of_clusters=2,\n",
      "              density_custom_ranges={\"Density1\":[\"ProtA\",(1,100,\"ProtB\"),(200,350,\"ProtB\")],\"Density2\":[\"ProtC\"]})"
     ],
     "language": "python",
     "metadata": {},
     "outputs": []
    }
   ],
   "metadata": {}
  }
 ]
}
