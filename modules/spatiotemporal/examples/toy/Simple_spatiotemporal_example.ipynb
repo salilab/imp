{
 "cells": [
  {
   "cell_type": "markdown",
   "metadata": {},
   "source": [
    "# Example of spatiotemporal integrative modeling\n",
    "\n",
    "Here, we walk through an example of spatiotemporal integrative modeling. For a toy model, we assume there are 2 proteins: A and B. We are interested in assembly of the trimer of these proteins.\n",
    "\n",
    "For simplicity, we will assume that data suggests the assembly proceeds as a monomer->dimer->trimer, and that the data for these states was collected at set time points, namely 0 minutes, 5 minutes, and 10 minutes. Based on these assumptions, our model can be present in 6 possible states at 3 time points (2 states at 0 minutes, 3 states at 5 minutes, and 2 states at 10 minutes), as summarized in the image below:\n",
    "\n",
    "![title](image/toy_model.pdf)\n",
    "\n",
    "For each of these combinations of proteins A and B, we would generate integrative models of each complex, following procedures such as those in modeling the Actin complex (https://integrativemodeling.org/tutorials/actin/). We will assume that this process was already done. The scores of each model were saved as *_scores.log and the stoicheometery for each model is described by *.config.\n",
    "\n",
    "### Model without temporal scoring\n",
    "Using just this data as an input, we can compute our spatiotemporal model with one line of code:"
   ]
  },
  {
   "cell_type": "code",
   "execution_count": null,
   "metadata": {},
   "outputs": [
    {
     "name": "stdout",
     "output_type": "stream",
     "text": [
      "Initialing graph...\n",
      "Done.\n",
      "Scoring directed acycling graph...\n",
      "Done.\n",
      "Writing output...\n",
      "Done.\n"
     ]
    }
   ],
   "source": [
    "# import relevant modules\n",
    "import sys\n",
    "import IMP.spatiotemporal as spatiotemporal\n",
    "import os\n",
    "\n",
    "# Always from in main_dir\n",
    "main_dir=os.getcwd()\n",
    "os.chdir(main_dir)\n",
    "\n",
    "# Input variables. \n",
    "# dict is a the state dictionary, which returns the number of states at each time point, for each time point.\n",
    "# Input is the directory where the data is stored. \n",
    "# Output is the directory to which the output will be written\n",
    "dict={'0min':2,'5min':3,'10min':2}\n",
    "input='data'\n",
    "output='../output_notemp'\n",
    "\n",
    "# create DAG\n",
    "nodes,graph,graph_prob,graph_scores=spatiotemporal.create_DAG(dict,input_dir=input,output_dir=output)\n",
    "\n"
   ]
  },
  {
   "cell_type": "markdown",
   "metadata": {},
   "source": [
    "### Outputs and data analysis\n",
    "\n",
    "#### Output files\n",
    "Note that the folder output_notemp has 4 different files. Each of these files contains different ways of describing or visualizing the graph.\n",
    "\n",
    "cdf.txt - stores the cumulative distribution function (cdf) over all trajectories, with each row corresponding to the next most likely trajectory being added to the total cdf.\n",
    "\n",
    "labeled_pdf.txt - stores the probability distribution function over all trajectories. Each row has 2 columns. The first column describes each state along the trajectory, divided by '|'. The next column is the probability of that trajectory.\n",
    "\n",
    "dag_heatmap/dag_heatmap.eps - visualization of the graph as a heatmap, created by graphviz. By default, each state is represented as a sphere with darker spheres corresponding to higher probability."
   ]
  },
  {
   "cell_type": "markdown",
   "metadata": {},
   "source": [
    "### Model with temporal scoring\n",
    "Closer analysis of the output from the analysis above shows that not trajectories are purely associative, meaning proteins would have to dissociate from the assembling complex for that trajectory to be relevant. We can filter out these unwanted trajectories using the spatio_temporal_rule keyword:"
   ]
  },
  {
   "cell_type": "markdown",
   "metadata": {},
   "source": [
    "# go to main_dir\n",
    "os.chdir(main_dir)\n",
    "\n",
    "# Input variables. \n",
    "dict={'0min':2,'5min':3,'10min':2}\n",
    "input='data'\n",
    "output='../output_temp'\n",
    "# expected_subcomplexes is a list of all possible subcomplex strings in the model. Should match the configuration files\n",
    "subcomplexes=['A1','A2','B1','B2']\n",
    "\n",
    "graph,graph_scores=spatiotemporal.create_DAG(dict,input_dir=input,output_dir=output,spatio_temporal_rule=True,expected_subcomplexes=subcomplexes)"
   ]
  },
  {
   "cell_type": "markdown",
   "metadata": {},
   "source": [
    "### Adding stoichiometeric data\n",
    "Sometimes, experiments such as fluorescence correlation spectroscopy (FCS) can provide time-dependent stoichiometeric data. In such cases, we can utilize this data to inform our spatiotemporal model. By adding the score_comp keyword, we can include a likelihood to our Bayesian scoring function that accounts for protein composition. Note that the precision of our model increased because of the additional data provided:"
   ]
  },
  {
   "cell_type": "code",
   "execution_count": 4,
   "metadata": {},
   "outputs": [
    {
     "name": "stdout",
     "output_type": "stream",
     "text": [
      "Initialing graph...\n",
      "Done.\n",
      "Calculation composition likelihood...\n",
      "Done.\n",
      "Scoring directed acycling graph...\n",
      "Done.\n",
      "Writing output...\n",
      "Done.\n"
     ]
    }
   ],
   "source": [
    "# go to main_dir\n",
    "os.chdir(main_dir)\n",
    "\n",
    "# Input variables. \n",
    "dict={'0min':2,'5min':3,'10min':2}\n",
    "input='data'\n",
    "output='../output_stoich'\n",
    "subcomplexes=['A1','A2','B1','B2']\n",
    "# exp_comp_map is a dictionary that describes protein stoicheometery. The key describes the protein, which should correspond to names within the expected_subcomplexes. For each of these proteins, a csv file should be provided with protein copy number data\n",
    "exp_comp={'A':'exp_comp_A.csv','B':'exp_comp_B.csv'}\n",
    "\n",
    "\n",
    "nodes,graph,graph_prob,graph_scores=spatiotemporal.create_DAG(dict,input_dir=input,output_dir=output,spatio_temporal_rule=True,expected_subcomplexes=subcomplexes,score_comp=True,exp_comp_map=exp_comp)"
   ]
  },
  {
   "cell_type": "markdown",
   "metadata": {},
   "source": [
    "### Precision of model is dependent on the precision of input data\n",
    "The precision of the final model is dependent on the precision of the data used to construct the model. To demonstrate this point, we assume we can create a data set with more precise stoicheometeric data. Note that, now, the model converges onto a single trajectory. Here, we also demonstrate some other output options that may be useful:\n"
   ]
  },
  {
   "cell_type": "code",
   "execution_count": 5,
   "metadata": {},
   "outputs": [
    {
     "name": "stdout",
     "output_type": "stream",
     "text": [
      "Initialing graph...\n",
      "Done.\n",
      "Calculation composition likelihood...\n",
      "Done.\n",
      "Scoring directed acycling graph...\n",
      "Done.\n",
      "Writing output...\n",
      "Done.\n"
     ]
    }
   ],
   "source": [
    "# go to main_dir\n",
    "os.chdir(main_dir)\n",
    "\n",
    "# Input variables. \n",
    "dict={'0min':2,'5min':3,'10min':2}\n",
    "input='data_precise'\n",
    "output='../output_stoich_precise'\n",
    "subcomplexes=['A1','A2','B1','B2']\n",
    "exp_comp={'A':'exp_comp_A_precise.csv','B':'exp_comp_B_precise.csv'}\n",
    "\n",
    "\n",
    "nodes,graph,graph_prob,graph_scores=spatiotemporal.create_DAG(dict,out_pdf=True,npaths=2,input_dir=input,output_dir=output,spatio_temporal_rule=True,expected_subcomplexes=subcomplexes,score_comp=True,exp_comp_map=exp_comp)"
   ]
  },
  {
   "cell_type": "markdown",
   "metadata": {},
   "source": [
    "### Other outputs\n",
    "Note the 2 additional commands, out_pdf and npaths, which caused the creation of new analysis files 'pdf.txt' and 'path1.txt'/'path2.txt' respectively. These files describe:\n",
    "\n",
    "pdf.txt - stores the probability distribution function (pdf) over all trajectories, with each row corresponding to the next most likely trajectory.\n",
    "\n",
    "path1.txt / path2.txt - Each line corresponds to a single state visited in the most likely path (path1.txt) or 2nd most likely path (path2.txt). Note that 2 files were written because npaths=2."
   ]
  },
  {
   "cell_type": "markdown",
   "metadata": {},
   "source": [
    "## Summary of all options\n",
    "The create_DAG function has a variety of options for model input and plotting. The tutorial above highlighted the key functions that are necessary to create spatio-temporal models, but other options are also available. Here, we highlight all options of the create_DAG function:\n",
    "\n",
    "#### Inputs related to model input / calculation\n",
    "state_dict - dictionary that defines the spatiotemporal model. They keys are strings that correspond to each time point in the stepwise temporal process.\n",
    "Keys should be ordered according to the steps in the spatiotemporal process. The values are integers that correspond to the number of possible states at that timepoint.\n",
    "Scores for each model are expected to be stored as state_timescorestr,\n",
    "where state are integers 1->value of the dictionary, time is the key in the dictionary, and\n",
    "scorestr is trailing characters, which are assumed to be constant for all states.\n",
    "\n",
    "input_dir - string, directory where the data is stored. Empty string assumes current working directory.\n",
    "\n",
    "scorestr - string, trailing characters at the end of the file with scores for each stage of the spatiotemporal model (default: '_scores.log').\n",
    "\n",
    "output_dir - string, directory where the output will be written. Empty string assumes the same directory as the input_dir.\n",
    "\n",
    "#### Inputs related to spatiotemporal scoring (all optional)\n",
    "spatio_temporal_rule- Boolean. If true, enforces that all components earlier in the assembly process are present later in the process. (default: False)\n",
    "\n",
    "subcomplexstr- string, trailing characters after the subcomplex file, which is a list of subcomplexes included in the given label/time (default: '.config')\n",
    "\n",
    "expected_subcomplexes- list of all possible subcomplex strings in the model (default: []) Should be a list without duplicates of all components in the subcomplex files.\n",
    "\n",
    "#### Inputs related to composition scores (all optional)\n",
    "score_comp - Boolean to determine whether or not to score models based on the protein composition\n",
    "\n",
    "exp_comp_map - dictionary for determining protein composition score. The keys are the proteins. The code checks if the name of these proteins are within the subcomplex_components for each node. As such, the naming scheme should be such that the keys of exp_comp_map are substrings of expected_subcomplexes the values of exp_comp_map should correspond to a csv file for each subcomplex with protein copy numbers. Each csv file should have 3 columns:\n",
    "1) 'Time' - should correspond to the keys of state_dict, 2) 'mean' - mean copy number from experimental data, and 3) std - standard deviation from experimental data\n",
    "\n",
    "#### Inputs related to model output (all optional)\n",
    "out_cdf - Boolean to determine whether or not to write out the cumulative distribution function (cdf) for the graph (default: True)\n",
    "\n",
    "cdf_fn - string, filename for the cdf (default: 'cdf.txt')\n",
    "\n",
    "out_labeled_pdf - Boolean to determine whether to output the labeled pdf file, which includes both the pdf and the ordered states visited along each path (default: True).\n",
    "\n",
    "labeled_pdf_fn - string, name of the file for the labeled pdf (default: 'labeled_pdf.txt')\n",
    "\n",
    "out_pdf - Boolean to determine whether or not to write out the probability distribution function (pdf) for the graph (default: False)\n",
    "\n",
    "pdf_fn - string, filename for the pdf (default: 'pdf.txt')\n",
    "\n",
    "npaths - int, write out the states along the n most likely paths, based on the pdf (default: 0)\n",
    "\n",
    "npath_fn - string, name of the file for each of the n most likely paths. 'n.txt' will be appended to the end of npath_fn (default: 'path')\n",
    "\n",
    "#### Inputs related to directed acyclic graph (DAG) output (all optional)\n",
    "draw_dag - Boolean to determine whether or not to write out a directed acyclic graph (dag) to a file (default: True)\n",
    "\n",
    "dag_fn - string, filename for the dag image (default: 'dag_heatmap')\n",
    "\n",
    "dag_heatmap - Boolean to determine whether or not to write the dag with a heatmap based on the probability of each state (default: True)\n",
    "\n",
    "dag_colormap - string, colormap used by the dag to represent probability. Chooses from those available in matplotlib\n",
    "(https://matplotlib.org/stable/users/explain/colors/colormaps.html) (default: \"Purples\").\n",
    "\n",
    "dag_draw_label - Boolean to determine whether or not to draw state labels on the dag\n",
    "\n",
    "dag_fontname - string, font used for the labels on the dag\n",
    "\n",
    "dag_fontsize - string, font size used for the labels on the dag\n",
    "\n",
    "dag_penscale - float, size of the pen used to draw arrows on the dag\n",
    "\n",
    "dag_arrowsize - float, size of arrows connecting states on the dag\n",
    "\n",
    "dag_height - string, height of each node on the dag\n",
    "\n",
    "dag_width - string, width of each node on the dag"
   ]
  }
 ],
 "metadata": {
  "kernelspec": {
   "display_name": "Python 3",
   "language": "python",
   "name": "python3"
  },
  "language_info": {
   "codemirror_mode": {
    "name": "ipython",
    "version": 3
   },
   "file_extension": ".py",
   "mimetype": "text/x-python",
   "name": "python",
   "nbconvert_exporter": "python",
   "pygments_lexer": "ipython3",
   "version": "3.8.5"
  }
 },
 "nbformat": 4,
 "nbformat_minor": 4
}
